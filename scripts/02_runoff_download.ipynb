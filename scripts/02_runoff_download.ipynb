{
 "cells": [
  {
   "cell_type": "code",
   "execution_count": null,
   "metadata": {},
   "outputs": [],
   "source": [
    "import pandas as pd\n",
    "import urllib.request\n",
    "import io"
   ]
  },
  {
   "cell_type": "code",
   "execution_count": null,
   "metadata": {},
   "outputs": [],
   "source": [
    "meta_data = pd.read_csv(\"../data/raw_shapes/ESP_meta.csv\")[[\"STATION\", \"NAME\", \"SQ_KM\"]]"
   ]
  },
  {
   "cell_type": "code",
   "execution_count": null,
   "metadata": {},
   "outputs": [],
   "source": [
    "#consistency\n",
    "meta_data.at[314, \"STATION\"] = 38001\n",
    "meta_data.at[315, \"STATION\"] = 39001"
   ]
  },
  {
   "cell_type": "code",
   "execution_count": null,
   "metadata": {
    "scrolled": true
   },
   "outputs": [],
   "source": [
    "for idx, area in meta_data[[\"STATION\", \"SQ_KM\"]].values[::, ::]:\n",
    "    \n",
    "    idx = str(int(idx))\n",
    "    \n",
    "    print(f\"{idx}\")\n",
    "    \n",
    "    request = f\"http://nrfaapps.ceh.ac.uk/nrfa/ws/time-series/{idx}?station={idx}&data-type=gdf&format=nrfa-csv\"\n",
    "    \n",
    "    runoff = pd.read_csv(io.BytesIO(urllib.request.urlopen(request).read()), \n",
    "                         skiprows=21, header=None, usecols=[0, 1], index_col=0, parse_dates=True, names=[\"date\", \"Obs\"])\n",
    "      \n",
    "    coef = ((86400*1000)/(area*1000000))\n",
    "    \n",
    "    \n",
    "    runoff[\"Obs\"] = runoff[\"Obs\"] * coef\n",
    "    \n",
    "    runoff = runoff[\"2008-01-02\":\"2015-12-31\"]\n",
    "    \n",
    "    runoff.to_pickle(f\"../data/runoff/{idx}.pkl\")"
   ]
  },
  {
   "cell_type": "code",
   "execution_count": null,
   "metadata": {},
   "outputs": [],
   "source": []
  }
 ],
 "metadata": {
  "kernelspec": {
   "display_name": "Python 3",
   "language": "python",
   "name": "python3"
  },
  "language_info": {
   "codemirror_mode": {
    "name": "ipython",
    "version": 3
   },
   "file_extension": ".py",
   "mimetype": "text/x-python",
   "name": "python",
   "nbconvert_exporter": "python",
   "pygments_lexer": "ipython3",
   "version": "3.6.5"
  }
 },
 "nbformat": 4,
 "nbformat_minor": 2
}
